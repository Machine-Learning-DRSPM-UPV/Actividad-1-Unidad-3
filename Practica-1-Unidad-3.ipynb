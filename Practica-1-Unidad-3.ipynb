{
 "cells": [
  {
   "cell_type": "code",
   "execution_count": 11,
   "metadata": {},
   "outputs": [
    {
     "data": {
      "text/html": [
       "<div>\n",
       "<style scoped>\n",
       "    .dataframe tbody tr th:only-of-type {\n",
       "        vertical-align: middle;\n",
       "    }\n",
       "\n",
       "    .dataframe tbody tr th {\n",
       "        vertical-align: top;\n",
       "    }\n",
       "\n",
       "    .dataframe thead th {\n",
       "        text-align: right;\n",
       "    }\n",
       "</style>\n",
       "<table border=\"1\" class=\"dataframe\">\n",
       "  <thead>\n",
       "    <tr style=\"text-align: right;\">\n",
       "      <th></th>\n",
       "      <th>lng sepalo</th>\n",
       "      <th>anch sepalo</th>\n",
       "      <th>lng petalo</th>\n",
       "      <th>anch petalo</th>\n",
       "      <th>especie</th>\n",
       "    </tr>\n",
       "  </thead>\n",
       "  <tbody>\n",
       "    <tr>\n",
       "      <th>145</th>\n",
       "      <td>6.7</td>\n",
       "      <td>3.0</td>\n",
       "      <td>5.2</td>\n",
       "      <td>2.3</td>\n",
       "      <td>Iris-virginica</td>\n",
       "    </tr>\n",
       "    <tr>\n",
       "      <th>146</th>\n",
       "      <td>6.3</td>\n",
       "      <td>2.5</td>\n",
       "      <td>5.0</td>\n",
       "      <td>1.9</td>\n",
       "      <td>Iris-virginica</td>\n",
       "    </tr>\n",
       "    <tr>\n",
       "      <th>147</th>\n",
       "      <td>6.5</td>\n",
       "      <td>3.0</td>\n",
       "      <td>5.2</td>\n",
       "      <td>2.0</td>\n",
       "      <td>Iris-virginica</td>\n",
       "    </tr>\n",
       "    <tr>\n",
       "      <th>148</th>\n",
       "      <td>6.2</td>\n",
       "      <td>3.4</td>\n",
       "      <td>5.4</td>\n",
       "      <td>2.3</td>\n",
       "      <td>Iris-virginica</td>\n",
       "    </tr>\n",
       "    <tr>\n",
       "      <th>149</th>\n",
       "      <td>5.9</td>\n",
       "      <td>3.0</td>\n",
       "      <td>5.1</td>\n",
       "      <td>1.8</td>\n",
       "      <td>Iris-virginica</td>\n",
       "    </tr>\n",
       "  </tbody>\n",
       "</table>\n",
       "</div>"
      ],
      "text/plain": [
       "     lng sepalo  anch sepalo  lng petalo  anch petalo         especie\n",
       "145         6.7          3.0         5.2          2.3  Iris-virginica\n",
       "146         6.3          2.5         5.0          1.9  Iris-virginica\n",
       "147         6.5          3.0         5.2          2.0  Iris-virginica\n",
       "148         6.2          3.4         5.4          2.3  Iris-virginica\n",
       "149         5.9          3.0         5.1          1.8  Iris-virginica"
      ]
     },
     "execution_count": 11,
     "metadata": {},
     "output_type": "execute_result"
    }
   ],
   "source": [
    "\n",
    "import pandas as pd\n",
    "import numpy as np\n",
    "import matplotlib.pyplot as plt\n",
    "from sklearn.decomposition import PCA\n",
    "from sklearn.preprocessing import StandardScaler\n",
    "%matplotlib inline\n",
    "\n",
    "url = \"https://archive.ics.uci.edu/ml/machine-learning-databases/iris/iris.data\"\n",
    "\n",
    "\n",
    "df = pd.read_csv(url, names=['lng sepalo','anch sepalo','lng petalo','anch petalo','especie'])\n",
    "\n",
    "df.tail()"
   ]
  },
  {
   "cell_type": "code",
   "execution_count": 13,
   "metadata": {},
   "outputs": [],
   "source": [
    "# Se divide la matriz del dataset en dos partes\n",
    "\n",
    "X = df.iloc[:,0:4].values\n",
    "# la submatriz x contiene los valores de las primeras 4 columnas del dataframe y todas las filas\n",
    "\n",
    "y = df.iloc[:,4].values\n",
    "# El vector y contiene los valores de la 4 columna (especie)para todas las filas"
   ]
  },
  {
   "cell_type": "code",
   "execution_count": 16,
   "metadata": {},
   "outputs": [],
   "source": [
    "#se aplica la transformacion de los datos para poder\n",
    "#aplicar las propiedades de la distribucion normal\n",
    "from sklearn.preprocessing import StandardScaler\n",
    "X_std = StandardScaler().fit_transform(X)"
   ]
  },
  {
   "cell_type": "code",
   "execution_count": 17,
   "metadata": {},
   "outputs": [],
   "source": [
    "#para calcular  los auto-vectores y auto-valores\n",
    "#mas conocido como eigenvector/eigenvalue"
   ]
  },
  {
   "cell_type": "code",
   "execution_count": 18,
   "metadata": {},
   "outputs": [
    {
     "name": "stdout",
     "output_type": "stream",
     "text": [
      "Matriz de coovarianza NumPy: \n",
      "[[ 1.00671141 -0.11010327  0.87760486  0.82344326]\n",
      " [-0.11010327  1.00671141 -0.42333835 -0.358937  ]\n",
      " [ 0.87760486 -0.42333835  1.00671141  0.96921855]\n",
      " [ 0.82344326 -0.358937    0.96921855  1.00671141]]\n"
     ]
    }
   ],
   "source": [
    "#se calcula una matriz la cual es de covarianza\n",
    "\n",
    "print ('Matriz de coovarianza NumPy: \\n%s' %np.cov(X_std.T)\n",
    "      )\n"
   ]
  },
  {
   "cell_type": "code",
   "execution_count": 19,
   "metadata": {},
   "outputs": [
    {
     "name": "stdout",
     "output_type": "stream",
     "text": [
      "Auto vectores \"Eigenvectors\" \n",
      "[[ 0.52237162 -0.37231836 -0.72101681  0.26199559]\n",
      " [-0.26335492 -0.92555649  0.24203288 -0.12413481]\n",
      " [ 0.58125401 -0.02109478  0.14089226 -0.80115427]\n",
      " [ 0.56561105 -0.06541577  0.6338014   0.52354627]]\n",
      "\n",
      "AutoValores \"Eigenvalues \n",
      "[2.93035378 0.92740362 0.14834223 0.02074601]\"\n"
     ]
    }
   ],
   "source": [
    "#se calculan los auovalores y autovectores\n",
    "#de la matriz y se muestra\n",
    "\n",
    "cov_mat = np.cov(X_std.T)\n",
    "eig_vals, eig_vecs = np.linalg.eig(cov_mat)\n",
    "\n",
    "print('Auto vectores \"Eigenvectors\" \\n%s' %eig_vecs)\n",
    "\n",
    "print('\\nAutoValores \"Eigenvalues \\n%s\"' %eig_vals)\n",
    "\n",
    "\n",
    "\n",
    "\n"
   ]
  },
  {
   "cell_type": "code",
   "execution_count": 20,
   "metadata": {},
   "outputs": [
    {
     "name": "stdout",
     "output_type": "stream",
     "text": [
      "Atovalores en modo onden descendiente: \n",
      "2.9303537755893165\n",
      "0.9274036215173405\n",
      "0.14834222648163956\n",
      "0.020746013995596283\n"
     ]
    }
   ],
   "source": [
    "#se hace una lista de parejas (Autoector , autovalor)\n",
    "\n",
    "eig_pairs = [(np.abs(eig_vals[i]), eig_vecs[: , i])\n",
    "            \n",
    "             for i in range (len(eig_vals))\n",
    "            \n",
    "            ]\n",
    "\n",
    "#se ordenan los pares en orden descendiente \n",
    "#con la funcion sort \"ordenamiento\"\n",
    "\n",
    "eig_pairs.sort(key=lambda x: x[0], reverse = True)\n",
    "\n",
    "\n",
    "#se visualiza la lista de autovalores en el orden\n",
    "#descendiente\n",
    "\n",
    "print('Atovalores en modo onden descendiente: ')\n",
    "for i in eig_pairs:\n",
    "    print(i[0])\n",
    "\n"
   ]
  },
  {
   "cell_type": "code",
   "execution_count": 25,
   "metadata": {},
   "outputs": [
    {
     "data": {
      "image/png": "[encoded data removed]",
      "text/plain": [
       "<Figure size 432x288 with 1 Axes>"
      ]
     },
     "metadata": {
      "needs_background": "light"
     },
     "output_type": "display_data"
    }
   ],
   "source": [
    "#a partir de estos autivalores,\n",
    "#se calcula la varianza explicada\n",
    "\n",
    "total = sum(eig_vals)\n",
    "var_exp = [(i / total)*100\n",
    "          for i in sorted(eig_vals, reverse = True)]\n",
    "cum_var_exp = np.cumsum(var_exp)\n",
    "\n",
    "#se representa en una grafica de barras la varianza\n",
    "#explicada por cada autovalor, y la acumulada\n",
    "\n",
    "with plt.style.context('seaborn-pastel'):\n",
    "    plt.figure(figsize = (6,4))\n",
    "    \n",
    "    plt.bar(range(4) , var_exp, alpha= 0.6 ,\n",
    "            align=\"center\", \n",
    "           label = 'Varianza individual explicada', color =\n",
    "            'g'\n",
    "           )\n",
    "    plt.step(range(4), cum_var_exp, where='mid', linestyle = '--',\n",
    "            label = 'Varianza explicada acumulada')\n",
    "    plt.ylabel('Ratio de varianza explicada')\n",
    "    plt.xlabel('Compoentes Principales')\n",
    "    plt.legend(loc = 'best')\n",
    "    plt.tight_layout()\n",
    "    \n",
    "    \n",
    "    \n",
    "\n"
   ]
  },
  {
   "cell_type": "code",
   "execution_count": 26,
   "metadata": {},
   "outputs": [
    {
     "name": "stdout",
     "output_type": "stream",
     "text": [
      "Matriz W:\n",
      " [[ 0.52237162 -0.37231836]\n",
      " [-0.26335492 -0.92555649]\n",
      " [ 0.58125401 -0.02109478]\n",
      " [ 0.56561105 -0.06541577]]\n"
     ]
    }
   ],
   "source": [
    "\n",
    "#se genera la matriz a partir de los pares\n",
    "#autovalor-autovector\n",
    "\n",
    "matrix_w = np.hstack((eig_pairs[0][1].reshape(4,1),\n",
    "                     eig_pairs[1][1].reshape(4,1)))\n",
    "\n",
    "print('Matriz W:\\n', matrix_w)\n",
    "\n",
    "Y = X_std.dot(matrix_w)\n",
    "\n"
   ]
  },
  {
   "cell_type": "code",
   "execution_count": 28,
   "metadata": {},
   "outputs": [
    {
     "data": {
      "image/png": "[encoded data removed]",
      "text/plain": [
       "<Figure size 504x360 with 1 Axes>"
      ]
     },
     "metadata": {},
     "output_type": "display_data"
    },
    {
     "data": {
      "image/png": "[encoded data removed]",
      "text/plain": [
       "<Figure size 432x288 with 1 Axes>"
      ]
     },
     "metadata": {},
     "output_type": "display_data"
    },
    {
     "data": {
      "image/png": "[encoded data removed]",
      "text/plain": [
       "<Figure size 432x288 with 1 Axes>"
      ]
     },
     "metadata": {},
     "output_type": "display_data"
    }
   ],
   "source": [
    "#por ultimo e representa en una grafica un nuevo espacio\n",
    "#de datos con lo siguiente....\n",
    "\n",
    "with plt.style.context('seaborn-whitegrid'):\n",
    "    plt.figure(figsize=(7,5))\n",
    "    for lab, col in zip(('Iris-setosa', 'Iris-versicolor',\n",
    "                         'Iris-virginica'),\n",
    "                       ('magenta', 'cyan', 'red')):\n",
    "        plt.scatter(Y[y==lab, 0],\n",
    "                   Y[y==lab, 1],\n",
    "                   label= lab,\n",
    "                   c=col)\n",
    "        plt.xlabel('Componente principal 1')\n",
    "        plt.ylabel('Componente principal 2')\n",
    "        plt.legend(loc='lower center')\n",
    "        plt.tight_layout()\n",
    "        plt.show()\n",
    "\n"
   ]
  },
  {
   "cell_type": "code",
   "execution_count": null,
   "metadata": {},
   "outputs": [],
   "source": []
  }
 ],
 "metadata": {
  "kernelspec": {
   "display_name": "Python 3",
   "language": "python",
   "name": "python3"
  },
  "language_info": {
   "codemirror_mode": {
    "name": "ipython",
    "version": 3
   },
   "file_extension": ".py",
   "mimetype": "text/x-python",
   "name": "python",
   "nbconvert_exporter": "python",
   "pygments_lexer": "ipython3",
   "version": "3.5.2"
  }
 },
 "nbformat": 4,
 "nbformat_minor": 2
}
